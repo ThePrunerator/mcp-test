{
 "cells": [
  {
   "cell_type": "code",
   "execution_count": null,
   "id": "86adbaef",
   "metadata": {},
   "outputs": [],
   "source": [
    "file_name = \"test.csv\"\n",
    "file_path = os.path.join(\"data\", file_name)\n",
    "    try:\n",
    "        data = pd.read_csv(file_path)\n",
    "        columns = data.columns.tolist()\n",
    "        return columns\n",
    "    except Exception as e:\n",
    "        return f\"Error reading CSV file: {str(e)}\""
   ]
  }
 ],
 "metadata": {
  "language_info": {
   "name": "python"
  }
 },
 "nbformat": 4,
 "nbformat_minor": 5
}
